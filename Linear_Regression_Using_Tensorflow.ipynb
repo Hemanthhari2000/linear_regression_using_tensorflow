{
  "nbformat": 4,
  "nbformat_minor": 0,
  "metadata": {
    "colab": {
      "name": "Linear Regression Using Tensorflow.ipynb",
      "provenance": [],
      "collapsed_sections": [],
      "toc_visible": true
    },
    "kernelspec": {
      "name": "python3",
      "display_name": "Python 3"
    },
    "accelerator": "GPU"
  },
  "cells": [
    {
      "cell_type": "markdown",
      "metadata": {
        "id": "-8EhQYjBHm_O"
      },
      "source": [
        "# **Introduction to Linear Regression**"
      ]
    },
    {
      "cell_type": "code",
      "metadata": {
        "id": "ZmlR9aHPGfTN"
      },
      "source": [
        "import tensorflow as tf\n",
        "import numpy as np\n",
        "import pandas as pd\n",
        "import matplotlib.pyplot as plt"
      ],
      "execution_count": 1,
      "outputs": []
    },
    {
      "cell_type": "markdown",
      "metadata": {
        "id": "_bMLBrojpbjj"
      },
      "source": [
        "Regression is a frequently used problem now-a-days where we need to predict a certain value which is continous.\n",
        "we know a simple Linear Regression formula that is : \n",
        "\n",
        "### ***Y = mX + b*** \n",
        "\n",
        "\n",
        "where, \n",
        "***m*** -> The Slope\n",
        "***b*** -> intercept (or) ***bias***\n",
        "\n",
        "now using a simple linear regression with the scalar data can be very computational quickly and it may need more computational power. \n",
        "so to avoid it we use ****vector**** Representation of the data's.\n",
        "Hence the equation further reduces to the following:\n",
        "> ### ***Y = X.W***\n",
        "\n",
        "where, \n",
        "***W*** -> is the weight matrix and it has default ***bias*** in it.  \n",
        "\n",
        "\n",
        "---\n",
        "so a simple example of the linear regression is given below.\n",
        "\n",
        "\n",
        "\n"
      ]
    },
    {
      "cell_type": "code",
      "metadata": {
        "id": "oKXtOdqzGrTY",
        "outputId": "8b22a4fe-81aa-4ffc-ad95-e7c33eb456bb",
        "colab": {
          "base_uri": "https://localhost:8080/",
          "height": 85
        }
      },
      "source": [
        "# Initializing the X (independent variable)\n",
        "X = np.arange(0, 5, 0.1)\n",
        "X"
      ],
      "execution_count": 2,
      "outputs": [
        {
          "output_type": "execute_result",
          "data": {
            "text/plain": [
              "array([0. , 0.1, 0.2, 0.3, 0.4, 0.5, 0.6, 0.7, 0.8, 0.9, 1. , 1.1, 1.2,\n",
              "       1.3, 1.4, 1.5, 1.6, 1.7, 1.8, 1.9, 2. , 2.1, 2.2, 2.3, 2.4, 2.5,\n",
              "       2.6, 2.7, 2.8, 2.9, 3. , 3.1, 3.2, 3.3, 3.4, 3.5, 3.6, 3.7, 3.8,\n",
              "       3.9, 4. , 4.1, 4.2, 4.3, 4.4, 4.5, 4.6, 4.7, 4.8, 4.9])"
            ]
          },
          "metadata": {
            "tags": []
          },
          "execution_count": 2
        }
      ]
    },
    {
      "cell_type": "code",
      "metadata": {
        "id": "jEZhhWdIG-r4",
        "outputId": "64eba495-795d-4c7f-8b61-e354930d6fb9",
        "colab": {
          "base_uri": "https://localhost:8080/",
          "height": 295
        }
      },
      "source": [
        "a = 1 # here a is our slope (assume)\n",
        "b = 0 # here b is our intercept or bias (assume)\n",
        "\n",
        "# The linear Regression equation is initialized and the output is given to the Y\n",
        "Y = a * X + b \n",
        "\n",
        "#Simple Plot of the line.\n",
        "\n",
        "plt.plot(X, Y)\n",
        "plt.ylabel('Dependent Variable')\n",
        "plt.xlabel('Independent Variable')\n",
        "plt.title('Linear Regression')\n",
        "plt.show()"
      ],
      "execution_count": 3,
      "outputs": [
        {
          "output_type": "display_data",
          "data": {
            "image/png": "[encoded data removed]",
            "text/plain": [
              "<Figure size 432x288 with 1 Axes>"
            ]
          },
          "metadata": {
            "tags": [],
            "needs_background": "light"
          }
        }
      ]
    },
    {
      "cell_type": "markdown",
      "metadata": {
        "id": "QKufnyyGHy5e"
      },
      "source": [
        "## **Using Dataset to understand Linear Regression**\n"
      ]
    },
    {
      "cell_type": "markdown",
      "metadata": {
        "id": "TYrrjpY3aYuV"
      },
      "source": [
        "So, that now we know how the linear regression works let us jump into some datasets and try to get the real world value as a prediction.\n",
        "\n",
        "Let us create a class to represent the linear regression. \n",
        "Here, ***MyLinearRegression*** class is the initialized. \n",
        "\n",
        "***The initializer is nothing but the bias we need to give to the system.***\n"
      ]
    },
    {
      "cell_type": "code",
      "metadata": {
        "id": "gL39gCSsZb5R"
      },
      "source": [
        "# Initialize the Linear Regression Class\n",
        "\n",
        "class MyLinearRegression():\n",
        "\n",
        "  def __init__(self, initializers = 'random'):      # CONSTRUCTOR (sets m and b values)\n",
        "    if initializers == 'ones':\n",
        "      self.var = 1.\n",
        "    elif initializers =='zeros':\n",
        "      self.var = 0.\n",
        "    else:\n",
        "      self.var = tf.random.uniform(shape=[], minval=0., maxval=1.)  \n",
        "    \n",
        "    self.m = tf.Variable(1., shape = tf.TensorShape(None))\n",
        "    self.b = tf.Variable(self.var, shape= tf.TensorShape(None))\n",
        "    self.cost = []\n",
        "  \n",
        "  # MSE (gives the loss value)\n",
        "  def mse(self, true, predicted):                   \n",
        "    return tf.reduce_mean(tf.square(true - predicted))\n",
        "  \n",
        "  # Predict (predict the values using the eq (Y = mX + b))\n",
        "  def predict(self, x):                            \n",
        "    return tf.reduce_sum(self.m * x, 1) + self.b\n",
        "\n",
        "  # Update (This function learns and reduces the loss)\n",
        "  def update(self, X, y, learning_rate = 0.01):\n",
        "    with tf.GradientTape(persistent=True) as g:\n",
        "      loss = self.mse(y, self.predict(X))\n",
        "    \n",
        "    print(f\"Loss: {loss}\")\n",
        "    self.cost.append(loss)\n",
        "\n",
        "    dy_dm = g.gradient(loss, self.m)\n",
        "    dy_db = g.gradient(loss, self.b)\n",
        "\n",
        "    self.m.assign_sub(learning_rate * dy_dm)\n",
        "    self.b.assign_sub(learning_rate * dy_db)\n",
        "\n",
        "  # Train (Finally the model is trained with X, y)\n",
        "  def train(self, X, y, learning_rate = 0.01, epochs=5):\n",
        "    if len(X.shape) == 1:\n",
        "      X.tf.reshape(X, [X.shape[0], 1])\n",
        "\n",
        "    self.m.assign([self.var] * X.shape[-1])\n",
        "\n",
        "    for i in range(epochs + 1):\n",
        "      print(f'Epoch: {i}')\n",
        "      self.update(X, y, learning_rate=learning_rate)\n",
        "    return (self.m, self.b, self.cost)"
      ],
      "execution_count": 52,
      "outputs": []
    },
    {
      "cell_type": "markdown",
      "metadata": {
        "id": "xEIZSVoFu7AG"
      },
      "source": [
        "Now, we finished creating our Regression class we move on to import the dataset and do some preprocessing.\n"
      ]
    },
    {
      "cell_type": "code",
      "metadata": {
        "id": "KGIx5aDLHN-i",
        "outputId": "b16546a8-0ef7-4ca2-9b0b-c03641e7ff88",
        "colab": {
          "base_uri": "https://localhost:8080/",
          "height": 275
        }
      },
      "source": [
        "# Import the Fuel Consumption Dataset from the drive\n",
        "df = pd.read_csv('/content/drive/My Drive/datasets/Fuel Consumption/FuelConsumption.csv')\n",
        "df.head()"
      ],
      "execution_count": 19,
      "outputs": [
        {
          "output_type": "execute_result",
          "data": {
            "text/html": [
              "<div>\n",
              "<style scoped>\n",
              "    .dataframe tbody tr th:only-of-type {\n",
              "        vertical-align: middle;\n",
              "    }\n",
              "\n",
              "    .dataframe tbody tr th {\n",
              "        vertical-align: top;\n",
              "    }\n",
              "\n",
              "    .dataframe thead th {\n",
              "        text-align: right;\n",
              "    }\n",
              "</style>\n",
              "<table border=\"1\" class=\"dataframe\">\n",
              "  <thead>\n",
              "    <tr style=\"text-align: right;\">\n",
              "      <th></th>\n",
              "      <th>MODELYEAR</th>\n",
              "      <th>MAKE</th>\n",
              "      <th>MODEL</th>\n",
              "      <th>VEHICLECLASS</th>\n",
              "      <th>ENGINESIZE</th>\n",
              "      <th>CYLINDERS</th>\n",
              "      <th>TRANSMISSION</th>\n",
              "      <th>FUELTYPE</th>\n",
              "      <th>FUELCONSUMPTION_CITY</th>\n",
              "      <th>FUELCONSUMPTION_HWY</th>\n",
              "      <th>FUELCONSUMPTION_COMB</th>\n",
              "      <th>FUELCONSUMPTION_COMB_MPG</th>\n",
              "      <th>CO2EMISSIONS</th>\n",
              "    </tr>\n",
              "  </thead>\n",
              "  <tbody>\n",
              "    <tr>\n",
              "      <th>0</th>\n",
              "      <td>2014</td>\n",
              "      <td>ACURA</td>\n",
              "      <td>ILX</td>\n",
              "      <td>COMPACT</td>\n",
              "      <td>2.0</td>\n",
              "      <td>4</td>\n",
              "      <td>AS5</td>\n",
              "      <td>Z</td>\n",
              "      <td>9.9</td>\n",
              "      <td>6.7</td>\n",
              "      <td>8.5</td>\n",
              "      <td>33</td>\n",
              "      <td>196</td>\n",
              "    </tr>\n",
              "    <tr>\n",
              "      <th>1</th>\n",
              "      <td>2014</td>\n",
              "      <td>ACURA</td>\n",
              "      <td>ILX</td>\n",
              "      <td>COMPACT</td>\n",
              "      <td>2.4</td>\n",
              "      <td>4</td>\n",
              "      <td>M6</td>\n",
              "      <td>Z</td>\n",
              "      <td>11.2</td>\n",
              "      <td>7.7</td>\n",
              "      <td>9.6</td>\n",
              "      <td>29</td>\n",
              "      <td>221</td>\n",
              "    </tr>\n",
              "    <tr>\n",
              "      <th>2</th>\n",
              "      <td>2014</td>\n",
              "      <td>ACURA</td>\n",
              "      <td>ILX HYBRID</td>\n",
              "      <td>COMPACT</td>\n",
              "      <td>1.5</td>\n",
              "      <td>4</td>\n",
              "      <td>AV7</td>\n",
              "      <td>Z</td>\n",
              "      <td>6.0</td>\n",
              "      <td>5.8</td>\n",
              "      <td>5.9</td>\n",
              "      <td>48</td>\n",
              "      <td>136</td>\n",
              "    </tr>\n",
              "    <tr>\n",
              "      <th>3</th>\n",
              "      <td>2014</td>\n",
              "      <td>ACURA</td>\n",
              "      <td>MDX 4WD</td>\n",
              "      <td>SUV - SMALL</td>\n",
              "      <td>3.5</td>\n",
              "      <td>6</td>\n",
              "      <td>AS6</td>\n",
              "      <td>Z</td>\n",
              "      <td>12.7</td>\n",
              "      <td>9.1</td>\n",
              "      <td>11.1</td>\n",
              "      <td>25</td>\n",
              "      <td>255</td>\n",
              "    </tr>\n",
              "    <tr>\n",
              "      <th>4</th>\n",
              "      <td>2014</td>\n",
              "      <td>ACURA</td>\n",
              "      <td>RDX AWD</td>\n",
              "      <td>SUV - SMALL</td>\n",
              "      <td>3.5</td>\n",
              "      <td>6</td>\n",
              "      <td>AS6</td>\n",
              "      <td>Z</td>\n",
              "      <td>12.1</td>\n",
              "      <td>8.7</td>\n",
              "      <td>10.6</td>\n",
              "      <td>27</td>\n",
              "      <td>244</td>\n",
              "    </tr>\n",
              "  </tbody>\n",
              "</table>\n",
              "</div>"
            ],
            "text/plain": [
              "   MODELYEAR   MAKE  ... FUELCONSUMPTION_COMB_MPG CO2EMISSIONS\n",
              "0       2014  ACURA  ...                       33          196\n",
              "1       2014  ACURA  ...                       29          221\n",
              "2       2014  ACURA  ...                       48          136\n",
              "3       2014  ACURA  ...                       25          255\n",
              "4       2014  ACURA  ...                       27          244\n",
              "\n",
              "[5 rows x 13 columns]"
            ]
          },
          "metadata": {
            "tags": []
          },
          "execution_count": 19
        }
      ]
    },
    {
      "cell_type": "code",
      "metadata": {
        "id": "Ljxy0ecTvO4E",
        "outputId": "a590eb0b-4118-400d-aac2-b0bb0ab3da58",
        "colab": {
          "base_uri": "https://localhost:8080/",
          "height": 357
        }
      },
      "source": [
        "df.info()"
      ],
      "execution_count": 20,
      "outputs": [
        {
          "output_type": "stream",
          "text": [
            "<class 'pandas.core.frame.DataFrame'>\n",
            "RangeIndex: 1067 entries, 0 to 1066\n",
            "Data columns (total 13 columns):\n",
            " #   Column                    Non-Null Count  Dtype  \n",
            "---  ------                    --------------  -----  \n",
            " 0   MODELYEAR                 1067 non-null   int64  \n",
            " 1   MAKE                      1067 non-null   object \n",
            " 2   MODEL                     1067 non-null   object \n",
            " 3   VEHICLECLASS              1067 non-null   object \n",
            " 4   ENGINESIZE                1067 non-null   float64\n",
            " 5   CYLINDERS                 1067 non-null   int64  \n",
            " 6   TRANSMISSION              1067 non-null   object \n",
            " 7   FUELTYPE                  1067 non-null   object \n",
            " 8   FUELCONSUMPTION_CITY      1067 non-null   float64\n",
            " 9   FUELCONSUMPTION_HWY       1067 non-null   float64\n",
            " 10  FUELCONSUMPTION_COMB      1067 non-null   float64\n",
            " 11  FUELCONSUMPTION_COMB_MPG  1067 non-null   int64  \n",
            " 12  CO2EMISSIONS              1067 non-null   int64  \n",
            "dtypes: float64(4), int64(4), object(5)\n",
            "memory usage: 108.5+ KB\n"
          ],
          "name": "stdout"
        }
      ]
    },
    {
      "cell_type": "code",
      "metadata": {
        "id": "oeHmmHwtyQUi",
        "outputId": "2abb3c49-4393-48e7-f414-44d54428cd2f",
        "colab": {
          "base_uri": "https://localhost:8080/",
          "height": 297
        }
      },
      "source": [
        "df.describe().transpose()"
      ],
      "execution_count": 21,
      "outputs": [
        {
          "output_type": "execute_result",
          "data": {
            "text/html": [
              "<div>\n",
              "<style scoped>\n",
              "    .dataframe tbody tr th:only-of-type {\n",
              "        vertical-align: middle;\n",
              "    }\n",
              "\n",
              "    .dataframe tbody tr th {\n",
              "        vertical-align: top;\n",
              "    }\n",
              "\n",
              "    .dataframe thead th {\n",
              "        text-align: right;\n",
              "    }\n",
              "</style>\n",
              "<table border=\"1\" class=\"dataframe\">\n",
              "  <thead>\n",
              "    <tr style=\"text-align: right;\">\n",
              "      <th></th>\n",
              "      <th>count</th>\n",
              "      <th>mean</th>\n",
              "      <th>std</th>\n",
              "      <th>min</th>\n",
              "      <th>25%</th>\n",
              "      <th>50%</th>\n",
              "      <th>75%</th>\n",
              "      <th>max</th>\n",
              "    </tr>\n",
              "  </thead>\n",
              "  <tbody>\n",
              "    <tr>\n",
              "      <th>MODELYEAR</th>\n",
              "      <td>1067.0</td>\n",
              "      <td>2014.000000</td>\n",
              "      <td>0.000000</td>\n",
              "      <td>2014.0</td>\n",
              "      <td>2014.00</td>\n",
              "      <td>2014.0</td>\n",
              "      <td>2014.00</td>\n",
              "      <td>2014.0</td>\n",
              "    </tr>\n",
              "    <tr>\n",
              "      <th>ENGINESIZE</th>\n",
              "      <td>1067.0</td>\n",
              "      <td>3.346298</td>\n",
              "      <td>1.415895</td>\n",
              "      <td>1.0</td>\n",
              "      <td>2.00</td>\n",
              "      <td>3.4</td>\n",
              "      <td>4.30</td>\n",
              "      <td>8.4</td>\n",
              "    </tr>\n",
              "    <tr>\n",
              "      <th>CYLINDERS</th>\n",
              "      <td>1067.0</td>\n",
              "      <td>5.794752</td>\n",
              "      <td>1.797447</td>\n",
              "      <td>3.0</td>\n",
              "      <td>4.00</td>\n",
              "      <td>6.0</td>\n",
              "      <td>8.00</td>\n",
              "      <td>12.0</td>\n",
              "    </tr>\n",
              "    <tr>\n",
              "      <th>FUELCONSUMPTION_CITY</th>\n",
              "      <td>1067.0</td>\n",
              "      <td>13.296532</td>\n",
              "      <td>4.101253</td>\n",
              "      <td>4.6</td>\n",
              "      <td>10.25</td>\n",
              "      <td>12.6</td>\n",
              "      <td>15.55</td>\n",
              "      <td>30.2</td>\n",
              "    </tr>\n",
              "    <tr>\n",
              "      <th>FUELCONSUMPTION_HWY</th>\n",
              "      <td>1067.0</td>\n",
              "      <td>9.474602</td>\n",
              "      <td>2.794510</td>\n",
              "      <td>4.9</td>\n",
              "      <td>7.50</td>\n",
              "      <td>8.8</td>\n",
              "      <td>10.85</td>\n",
              "      <td>20.5</td>\n",
              "    </tr>\n",
              "    <tr>\n",
              "      <th>FUELCONSUMPTION_COMB</th>\n",
              "      <td>1067.0</td>\n",
              "      <td>11.580881</td>\n",
              "      <td>3.485595</td>\n",
              "      <td>4.7</td>\n",
              "      <td>9.00</td>\n",
              "      <td>10.9</td>\n",
              "      <td>13.35</td>\n",
              "      <td>25.8</td>\n",
              "    </tr>\n",
              "    <tr>\n",
              "      <th>FUELCONSUMPTION_COMB_MPG</th>\n",
              "      <td>1067.0</td>\n",
              "      <td>26.441425</td>\n",
              "      <td>7.468702</td>\n",
              "      <td>11.0</td>\n",
              "      <td>21.00</td>\n",
              "      <td>26.0</td>\n",
              "      <td>31.00</td>\n",
              "      <td>60.0</td>\n",
              "    </tr>\n",
              "    <tr>\n",
              "      <th>CO2EMISSIONS</th>\n",
              "      <td>1067.0</td>\n",
              "      <td>256.228679</td>\n",
              "      <td>63.372304</td>\n",
              "      <td>108.0</td>\n",
              "      <td>207.00</td>\n",
              "      <td>251.0</td>\n",
              "      <td>294.00</td>\n",
              "      <td>488.0</td>\n",
              "    </tr>\n",
              "  </tbody>\n",
              "</table>\n",
              "</div>"
            ],
            "text/plain": [
              "                           count         mean  ...      75%     max\n",
              "MODELYEAR                 1067.0  2014.000000  ...  2014.00  2014.0\n",
              "ENGINESIZE                1067.0     3.346298  ...     4.30     8.4\n",
              "CYLINDERS                 1067.0     5.794752  ...     8.00    12.0\n",
              "FUELCONSUMPTION_CITY      1067.0    13.296532  ...    15.55    30.2\n",
              "FUELCONSUMPTION_HWY       1067.0     9.474602  ...    10.85    20.5\n",
              "FUELCONSUMPTION_COMB      1067.0    11.580881  ...    13.35    25.8\n",
              "FUELCONSUMPTION_COMB_MPG  1067.0    26.441425  ...    31.00    60.0\n",
              "CO2EMISSIONS              1067.0   256.228679  ...   294.00   488.0\n",
              "\n",
              "[8 rows x 8 columns]"
            ]
          },
          "metadata": {
            "tags": []
          },
          "execution_count": 21
        }
      ]
    },
    {
      "cell_type": "code",
      "metadata": {
        "id": "1Dva_VAJKJsG",
        "outputId": "85df2034-d713-417a-afdb-2034cf5eee05",
        "colab": {
          "base_uri": "https://localhost:8080/",
          "height": 119
        }
      },
      "source": [
        "df['CO2EMISSIONS'].head()"
      ],
      "execution_count": 22,
      "outputs": [
        {
          "output_type": "execute_result",
          "data": {
            "text/plain": [
              "0    196\n",
              "1    221\n",
              "2    136\n",
              "3    255\n",
              "4    244\n",
              "Name: CO2EMISSIONS, dtype: int64"
            ]
          },
          "metadata": {
            "tags": []
          },
          "execution_count": 22
        }
      ]
    },
    {
      "cell_type": "markdown",
      "metadata": {
        "id": "cZO0cqsnvT-O"
      },
      "source": [
        "Let us predict the ***CO2EMISSIONS*** using ***ENGINESIZE***\n",
        "\n",
        "**Independent Variable (X) => ENGINESIZE**\n",
        "\n",
        "**Dependent Variabe (y) => CO2EMISSIONS**"
      ]
    },
    {
      "cell_type": "code",
      "metadata": {
        "id": "CL5Ssj2-JIWv",
        "outputId": "250a8a99-da4a-4ee2-cc22-5287063232fe",
        "colab": {
          "base_uri": "https://localhost:8080/",
          "height": 34
        }
      },
      "source": [
        "train_x = np.asanyarray(df[['ENGINESIZE']])   \n",
        "train_y = np.asanyarray(df[['CO2EMISSIONS']])\n",
        "print(train_y.shape)"
      ],
      "execution_count": 23,
      "outputs": [
        {
          "output_type": "stream",
          "text": [
            "(1067, 1)\n"
          ],
          "name": "stdout"
        }
      ]
    },
    {
      "cell_type": "markdown",
      "metadata": {
        "id": "8UMCjWtUwOK6"
      },
      "source": [
        "Let us normalize the output for better performance and also split the data to later test the performance of our model."
      ]
    },
    {
      "cell_type": "code",
      "metadata": {
        "id": "OnW-frbyJa4e",
        "outputId": "dbc28a20-e8e4-4cd7-9250-c2edebb9faf0",
        "colab": {
          "base_uri": "https://localhost:8080/",
          "height": 68
        }
      },
      "source": [
        "X = train_x.copy()\n",
        "y = train_y.copy()\n",
        "\n",
        "X = X / X.max()\n",
        "y = y / y.max()\n",
        "\n",
        "print(f\"After normalizing\\nX.max() {X.max()}\\ny.max() {y.max()}\")\n",
        "\n",
        "from sklearn.model_selection import train_test_split\n",
        "X_train, X_test, y_train, y_test = train_test_split(X, y, test_size = 0.2)\n"
      ],
      "execution_count": 25,
      "outputs": [
        {
          "output_type": "stream",
          "text": [
            "After normalizing\n",
            "X.max() 1.0\n",
            "y.max() 1.0\n"
          ],
          "name": "stdout"
        }
      ]
    },
    {
      "cell_type": "markdown",
      "metadata": {
        "id": "U3tAjujPwYDh"
      },
      "source": [
        "Let us ***Train*** the data"
      ]
    },
    {
      "cell_type": "code",
      "metadata": {
        "id": "pF2jnYlbfpAK",
        "outputId": "3d3c1fe7-fffc-4872-8715-5a1efe56b3f3",
        "colab": {
          "base_uri": "https://localhost:8080/",
          "height": 1000
        }
      },
      "source": [
        "myLinearRegressor = MyLinearRegression(initializers='ones')\n",
        "history = myLinearRegressor.train(X_train, y_train, learning_rate = 0.01, epochs = 200)"
      ],
      "execution_count": 53,
      "outputs": [
        {
          "output_type": "stream",
          "text": [
            "Epoch: 0\n",
            "Loss: 0.8059194684028625\n",
            "Epoch: 1\n",
            "Loss: 0.7702522873878479\n",
            "Epoch: 2\n",
            "Loss: 0.736223042011261\n",
            "Epoch: 3\n",
            "Loss: 0.7037563920021057\n",
            "Epoch: 4\n",
            "Loss: 0.6727808117866516\n",
            "Epoch: 5\n",
            "Loss: 0.6432275176048279\n",
            "Epoch: 6\n",
            "Loss: 0.615031361579895\n",
            "Epoch: 7\n",
            "Loss: 0.5881298780441284\n",
            "Epoch: 8\n",
            "Loss: 0.562463641166687\n",
            "Epoch: 9\n",
            "Loss: 0.5379759073257446\n",
            "Epoch: 10\n",
            "Loss: 0.51461261510849\n",
            "Epoch: 11\n",
            "Loss: 0.4923219382762909\n",
            "Epoch: 12\n",
            "Loss: 0.4710547626018524\n",
            "Epoch: 13\n",
            "Loss: 0.450764000415802\n",
            "Epoch: 14\n",
            "Loss: 0.43140485882759094\n",
            "Epoch: 15\n",
            "Loss: 0.41293442249298096\n",
            "Epoch: 16\n",
            "Loss: 0.3953118920326233\n",
            "Epoch: 17\n",
            "Loss: 0.3784984350204468\n",
            "Epoch: 18\n",
            "Loss: 0.3624568581581116\n",
            "Epoch: 19\n",
            "Loss: 0.34715157747268677\n",
            "Epoch: 20\n",
            "Loss: 0.3325488269329071\n",
            "Epoch: 21\n",
            "Loss: 0.3186163902282715\n",
            "Epoch: 22\n",
            "Loss: 0.30532336235046387\n",
            "Epoch: 23\n",
            "Loss: 0.29264047741889954\n",
            "Epoch: 24\n",
            "Loss: 0.28053969144821167\n",
            "Epoch: 25\n",
            "Loss: 0.2689942419528961\n",
            "Epoch: 26\n",
            "Loss: 0.257978618144989\n",
            "Epoch: 27\n",
            "Loss: 0.24746842682361603\n",
            "Epoch: 28\n",
            "Loss: 0.2374405860900879\n",
            "Epoch: 29\n",
            "Loss: 0.22787277400493622\n",
            "Epoch: 30\n",
            "Loss: 0.21874397993087769\n",
            "Epoch: 31\n",
            "Loss: 0.21003392338752747\n",
            "Epoch: 32\n",
            "Loss: 0.20172353088855743\n",
            "Epoch: 33\n",
            "Loss: 0.19379432499408722\n",
            "Epoch: 34\n",
            "Loss: 0.1862288862466812\n",
            "Epoch: 35\n",
            "Loss: 0.17901036143302917\n",
            "Epoch: 36\n",
            "Loss: 0.17212289571762085\n",
            "Epoch: 37\n",
            "Loss: 0.1655512899160385\n",
            "Epoch: 38\n",
            "Loss: 0.15928098559379578\n",
            "Epoch: 39\n",
            "Loss: 0.15329822897911072\n",
            "Epoch: 40\n",
            "Loss: 0.14758969843387604\n",
            "Epoch: 41\n",
            "Loss: 0.14214292168617249\n",
            "Epoch: 42\n",
            "Loss: 0.13694578409194946\n",
            "Epoch: 43\n",
            "Loss: 0.1319868564605713\n",
            "Epoch: 44\n",
            "Loss: 0.12725518643856049\n",
            "Epoch: 45\n",
            "Loss: 0.12274030596017838\n",
            "Epoch: 46\n",
            "Loss: 0.11843232810497284\n",
            "Epoch: 47\n",
            "Loss: 0.11432167887687683\n",
            "Epoch: 48\n",
            "Loss: 0.11039931327104568\n",
            "Epoch: 49\n",
            "Loss: 0.10665659606456757\n",
            "Epoch: 50\n",
            "Loss: 0.1030852422118187\n",
            "Epoch: 51\n",
            "Loss: 0.09967740625143051\n",
            "Epoch: 52\n",
            "Loss: 0.0964256078004837\n",
            "Epoch: 53\n",
            "Loss: 0.09332261234521866\n",
            "Epoch: 54\n",
            "Loss: 0.09036162495613098\n",
            "Epoch: 55\n",
            "Loss: 0.08753611147403717\n",
            "Epoch: 56\n",
            "Loss: 0.08483986556529999\n",
            "Epoch: 57\n",
            "Loss: 0.08226694911718369\n",
            "Epoch: 58\n",
            "Loss: 0.07981166988611221\n",
            "Epoch: 59\n",
            "Loss: 0.0774686336517334\n",
            "Epoch: 60\n",
            "Loss: 0.07523270696401596\n",
            "Epoch: 61\n",
            "Loss: 0.07309893518686295\n",
            "Epoch: 62\n",
            "Loss: 0.07106265425682068\n",
            "Epoch: 63\n",
            "Loss: 0.06911937147378922\n",
            "Epoch: 64\n",
            "Loss: 0.06726483255624771\n",
            "Epoch: 65\n",
            "Loss: 0.06549493223428726\n",
            "Epoch: 66\n",
            "Loss: 0.06380579620599747\n",
            "Epoch: 67\n",
            "Loss: 0.06219373270869255\n",
            "Epoch: 68\n",
            "Loss: 0.06065518409013748\n",
            "Epoch: 69\n",
            "Loss: 0.05918678268790245\n",
            "Epoch: 70\n",
            "Loss: 0.0577852837741375\n",
            "Epoch: 71\n",
            "Loss: 0.056447651237249374\n",
            "Epoch: 72\n",
            "Loss: 0.055170901119709015\n",
            "Epoch: 73\n",
            "Loss: 0.053952280431985855\n",
            "Epoch: 74\n",
            "Loss: 0.0527891106903553\n",
            "Epoch: 75\n",
            "Loss: 0.05167882889509201\n",
            "Epoch: 76\n",
            "Loss: 0.05061902850866318\n",
            "Epoch: 77\n",
            "Loss: 0.04960736632347107\n",
            "Epoch: 78\n",
            "Loss: 0.04864165931940079\n",
            "Epoch: 79\n",
            "Loss: 0.047719765454530716\n",
            "Epoch: 80\n",
            "Loss: 0.04683969169855118\n",
            "Epoch: 81\n",
            "Loss: 0.045999519526958466\n",
            "Epoch: 82\n",
            "Loss: 0.04519740492105484\n",
            "Epoch: 83\n",
            "Loss: 0.044431623071432114\n",
            "Epoch: 84\n",
            "Loss: 0.043700482696294785\n",
            "Epoch: 85\n",
            "Loss: 0.04300238937139511\n",
            "Epoch: 86\n",
            "Loss: 0.042335838079452515\n",
            "Epoch: 87\n",
            "Loss: 0.04169939458370209\n",
            "Epoch: 88\n",
            "Loss: 0.041091643273830414\n",
            "Epoch: 89\n",
            "Loss: 0.04051128774881363\n",
            "Epoch: 90\n",
            "Loss: 0.039957065135240555\n",
            "Epoch: 91\n",
            "Loss: 0.03942776843905449\n",
            "Epoch: 92\n",
            "Loss: 0.0389222651720047\n",
            "Epoch: 93\n",
            "Loss: 0.03843945637345314\n",
            "Epoch: 94\n",
            "Loss: 0.037978291511535645\n",
            "Epoch: 95\n",
            "Loss: 0.03753780201077461\n",
            "Epoch: 96\n",
            "Loss: 0.037117015570402145\n",
            "Epoch: 97\n",
            "Loss: 0.03671503812074661\n",
            "Epoch: 98\n",
            "Loss: 0.036330997943878174\n",
            "Epoch: 99\n",
            "Loss: 0.03596408665180206\n",
            "Epoch: 100\n",
            "Loss: 0.035613495856523514\n",
            "Epoch: 101\n",
            "Loss: 0.03527849167585373\n",
            "Epoch: 102\n",
            "Loss: 0.034958358854055405\n",
            "Epoch: 103\n",
            "Loss: 0.034652404487133026\n",
            "Epoch: 104\n",
            "Loss: 0.034359995275735855\n",
            "Epoch: 105\n",
            "Loss: 0.03408048674464226\n",
            "Epoch: 106\n",
            "Loss: 0.03381330147385597\n",
            "Epoch: 107\n",
            "Loss: 0.03355787694454193\n",
            "Epoch: 108\n",
            "Loss: 0.033313650637865067\n",
            "Epoch: 109\n",
            "Loss: 0.03308014199137688\n",
            "Epoch: 110\n",
            "Loss: 0.032856836915016174\n",
            "Epoch: 111\n",
            "Loss: 0.03264327719807625\n",
            "Epoch: 112\n",
            "Loss: 0.03243900090456009\n",
            "Epoch: 113\n",
            "Loss: 0.03224359452724457\n",
            "Epoch: 114\n",
            "Loss: 0.032056644558906555\n",
            "Epoch: 115\n",
            "Loss: 0.0318777821958065\n",
            "Epoch: 116\n",
            "Loss: 0.031706612557172775\n",
            "Epoch: 117\n",
            "Loss: 0.031542789191007614\n",
            "Epoch: 118\n",
            "Loss: 0.03138598054647446\n",
            "Epoch: 119\n",
            "Loss: 0.031235862523317337\n",
            "Epoch: 120\n",
            "Loss: 0.031092125922441483\n",
            "Epoch: 121\n",
            "Loss: 0.030954476445913315\n",
            "Epoch: 122\n",
            "Loss: 0.030822640284895897\n",
            "Epoch: 123\n",
            "Loss: 0.030696354806423187\n",
            "Epoch: 124\n",
            "Loss: 0.030575349926948547\n",
            "Epoch: 125\n",
            "Loss: 0.030459396541118622\n",
            "Epoch: 126\n",
            "Loss: 0.03034825623035431\n",
            "Epoch: 127\n",
            "Loss: 0.030241725966334343\n",
            "Epoch: 128\n",
            "Loss: 0.030139561742544174\n",
            "Epoch: 129\n",
            "Loss: 0.030041595920920372\n",
            "Epoch: 130\n",
            "Loss: 0.029947614297270775\n",
            "Epoch: 131\n",
            "Loss: 0.029857441782951355\n",
            "Epoch: 132\n",
            "Loss: 0.029770905151963234\n",
            "Epoch: 133\n",
            "Loss: 0.02968784235417843\n",
            "Epoch: 134\n",
            "Loss: 0.029608091339468956\n",
            "Epoch: 135\n",
            "Loss: 0.029531491920351982\n",
            "Epoch: 136\n",
            "Loss: 0.029457904398441315\n",
            "Epoch: 137\n",
            "Loss: 0.02938719652593136\n",
            "Epoch: 138\n",
            "Loss: 0.02931923232972622\n",
            "Epoch: 139\n",
            "Loss: 0.029253879562020302\n",
            "Epoch: 140\n",
            "Loss: 0.0291910357773304\n",
            "Epoch: 141\n",
            "Loss: 0.029130566865205765\n",
            "Epoch: 142\n",
            "Loss: 0.02907237783074379\n",
            "Epoch: 143\n",
            "Loss: 0.02901635505259037\n",
            "Epoch: 144\n",
            "Loss: 0.028962407261133194\n",
            "Epoch: 145\n",
            "Loss: 0.028910433873534203\n",
            "Epoch: 146\n",
            "Loss: 0.028860358521342278\n",
            "Epoch: 147\n",
            "Loss: 0.028812071308493614\n",
            "Epoch: 148\n",
            "Loss: 0.02876550890505314\n",
            "Epoch: 149\n",
            "Loss: 0.028720583766698837\n",
            "Epoch: 150\n",
            "Loss: 0.02867722138762474\n",
            "Epoch: 151\n",
            "Loss: 0.028635354712605476\n",
            "Epoch: 152\n",
            "Loss: 0.028594911098480225\n",
            "Epoch: 153\n",
            "Loss: 0.02855582907795906\n",
            "Epoch: 154\n",
            "Loss: 0.02851804718375206\n",
            "Epoch: 155\n",
            "Loss: 0.028481503948569298\n",
            "Epoch: 156\n",
            "Loss: 0.028446145355701447\n",
            "Epoch: 157\n",
            "Loss: 0.02841191552579403\n",
            "Epoch: 158\n",
            "Loss: 0.028378762304782867\n",
            "Epoch: 159\n",
            "Loss: 0.02834663912653923\n",
            "Epoch: 160\n",
            "Loss: 0.02831549569964409\n",
            "Epoch: 161\n",
            "Loss: 0.028285285457968712\n",
            "Epoch: 162\n",
            "Loss: 0.028255978599190712\n",
            "Epoch: 163\n",
            "Loss: 0.028227515518665314\n",
            "Epoch: 164\n",
            "Loss: 0.028199877589941025\n",
            "Epoch: 165\n",
            "Loss: 0.028173012658953667\n",
            "Epoch: 166\n",
            "Loss: 0.028146889060735703\n",
            "Epoch: 167\n",
            "Loss: 0.02812148444354534\n",
            "Epoch: 168\n",
            "Loss: 0.028096752241253853\n",
            "Epoch: 169\n",
            "Loss: 0.028072655200958252\n",
            "Epoch: 170\n",
            "Loss: 0.028049182146787643\n",
            "Epoch: 171\n",
            "Loss: 0.02802630513906479\n",
            "Epoch: 172\n",
            "Loss: 0.028003986924886703\n",
            "Epoch: 173\n",
            "Loss: 0.027982201427221298\n",
            "Epoch: 174\n",
            "Loss: 0.02796093560755253\n",
            "Epoch: 175\n",
            "Loss: 0.02794015407562256\n",
            "Epoch: 176\n",
            "Loss: 0.027919840067625046\n",
            "Epoch: 177\n",
            "Loss: 0.027899980545043945\n",
            "Epoch: 178\n",
            "Loss: 0.02788054756820202\n",
            "Epoch: 179\n",
            "Loss: 0.027861515060067177\n",
            "Epoch: 180\n",
            "Loss: 0.027842877432703972\n",
            "Epoch: 181\n",
            "Loss: 0.027824610471725464\n",
            "Epoch: 182\n",
            "Loss: 0.02780669555068016\n",
            "Epoch: 183\n",
            "Loss: 0.027789125218987465\n",
            "Epoch: 184\n",
            "Loss: 0.027771875262260437\n",
            "Epoch: 185\n",
            "Loss: 0.02775494195520878\n",
            "Epoch: 186\n",
            "Loss: 0.0277382992208004\n",
            "Epoch: 187\n",
            "Loss: 0.027721941471099854\n",
            "Epoch: 188\n",
            "Loss: 0.027705851942300797\n",
            "Epoch: 189\n",
            "Loss: 0.027690023183822632\n",
            "Epoch: 190\n",
            "Loss: 0.027674442157149315\n",
            "Epoch: 191\n",
            "Loss: 0.027659093961119652\n",
            "Epoch: 192\n",
            "Loss: 0.027643978595733643\n",
            "Epoch: 193\n",
            "Loss: 0.027629069983959198\n",
            "Epoch: 194\n",
            "Loss: 0.027614375576376915\n",
            "Epoch: 195\n",
            "Loss: 0.027599873021245003\n",
            "Epoch: 196\n",
            "Loss: 0.02758556231856346\n",
            "Epoch: 197\n",
            "Loss: 0.027571432292461395\n",
            "Epoch: 198\n",
            "Loss: 0.02755747362971306\n",
            "Epoch: 199\n",
            "Loss: 0.027543682605028152\n",
            "Epoch: 200\n",
            "Loss: 0.027530040591955185\n"
          ],
          "name": "stdout"
        }
      ]
    },
    {
      "cell_type": "markdown",
      "metadata": {
        "id": "wEic8wKEwki2"
      },
      "source": [
        "Predict the X_test values"
      ]
    },
    {
      "cell_type": "code",
      "metadata": {
        "id": "K91YW_JGidDM",
        "outputId": "b66acf87-1171-4312-a9a0-d6ba3d682080",
        "colab": {
          "base_uri": "https://localhost:8080/",
          "height": 68
        }
      },
      "source": [
        "m, b = history[0], history[1]\n",
        "y_pred = m * X_test + b\n",
        "print(y_pred.shape)\n",
        "print(f\"m\\t{m}\\nb\\t{b}\")"
      ],
      "execution_count": 54,
      "outputs": [
        {
          "output_type": "stream",
          "text": [
            "(214, 1)\n",
            "m\t<tf.Variable 'Variable:0' shape=<unknown> dtype=float32, numpy=array([0.6309448], dtype=float32)>\n",
            "b\t<tf.Variable 'Variable:0' shape=<unknown> dtype=float32, numpy=0.27567396>\n"
          ],
          "name": "stdout"
        }
      ]
    },
    {
      "cell_type": "markdown",
      "metadata": {
        "id": "LNOxTBMrxVvz"
      },
      "source": [
        "Visualizing the Loss value and see how the loss value is performed on the course of number of epochs."
      ]
    },
    {
      "cell_type": "code",
      "metadata": {
        "id": "bLujNPtopUG-",
        "outputId": "07daeabb-945b-40a0-817a-a77b22d057ef",
        "colab": {
          "base_uri": "https://localhost:8080/",
          "height": 295
        }
      },
      "source": [
        "plt.plot(history[2], color = 'orange')\n",
        "plt.xlabel('Epochs')\n",
        "plt.ylabel('loss')\n",
        "plt.title('Loss Plot')\n",
        "plt.show()"
      ],
      "execution_count": 59,
      "outputs": [
        {
          "output_type": "display_data",
          "data": {
            "image/png": "[encoded data removed]",
            "text/plain": [
              "<Figure size 432x288 with 1 Axes>"
            ]
          },
          "metadata": {
            "tags": [],
            "needs_background": "light"
          }
        }
      ]
    },
    {
      "cell_type": "markdown",
      "metadata": {
        "id": "T78AxTG_xiLN"
      },
      "source": [
        "Let us Visualize the data and see how it looks for both training and test set"
      ]
    },
    {
      "cell_type": "code",
      "metadata": {
        "id": "G5U33nBilfKG",
        "outputId": "407440b0-7915-43fc-a68b-0fe9836d94b8",
        "colab": {
          "base_uri": "https://localhost:8080/",
          "height": 573
        }
      },
      "source": [
        "plt.scatter(X_train, y_train)\n",
        "plt.xlabel('Engine Size')\n",
        "plt.ylabel('CO2 Emission')\n",
        "plt.title('Training Set')\n",
        "plt.show()\n",
        "\n",
        "plt.scatter(X_test, y_test)\n",
        "plt.xlabel('Engine Size')\n",
        "plt.ylabel('CO2 Emission')\n",
        "plt.title('Test Set')\n",
        "plt.show()"
      ],
      "execution_count": 60,
      "outputs": [
        {
          "output_type": "display_data",
          "data": {
            "image/png": "[encoded data removed]",
            "text/plain": [
              "<Figure size 432x288 with 1 Axes>"
            ]
          },
          "metadata": {
            "tags": [],
            "needs_background": "light"
          }
        },
        {
          "output_type": "display_data",
          "data": {
            "image/png": "[encoded data removed]",
            "text/plain": [
              "<Figure size 432x288 with 1 Axes>"
            ]
          },
          "metadata": {
            "tags": [],
            "needs_background": "light"
          }
        }
      ]
    },
    {
      "cell_type": "markdown",
      "metadata": {
        "id": "jzwTbsABxq0U"
      },
      "source": [
        "Let us Predict the line and visualize the line."
      ]
    },
    {
      "cell_type": "code",
      "metadata": {
        "id": "ZWusRSrSktKS",
        "outputId": "9a36244d-8594-41d1-b9f9-b796cf2aad95",
        "colab": {
          "base_uri": "https://localhost:8080/",
          "height": 295
        }
      },
      "source": [
        "plt.plot(X_test, y_pred, color = 'red')\n",
        "plt.xlabel('Engine Size')\n",
        "plt.ylabel('CO2 Emission')\n",
        "plt.title('Predicted Line')\n",
        "plt.show()"
      ],
      "execution_count": 61,
      "outputs": [
        {
          "output_type": "display_data",
          "data": {
            "image/png": "[encoded data removed]",
            "text/plain": [
              "<Figure size 432x288 with 1 Axes>"
            ]
          },
          "metadata": {
            "tags": [],
            "needs_background": "light"
          }
        }
      ]
    },
    {
      "cell_type": "markdown",
      "metadata": {
        "id": "345JVqDCxv8G"
      },
      "source": [
        "Finally, plot the graph which shows the data and predictions side by side."
      ]
    },
    {
      "cell_type": "code",
      "metadata": {
        "id": "kYBKrNsKmlri",
        "outputId": "6ebbb08b-5aec-43d0-e685-27d9ed158db9",
        "colab": {
          "base_uri": "https://localhost:8080/",
          "height": 295
        }
      },
      "source": [
        "plt.scatter(X_test, y_test, color = 'green')\n",
        "plt.plot(X_test, y_pred, color = 'red')\n",
        "plt.xlabel('Engine Size')\n",
        "plt.ylabel('CO2 Emission')\n",
        "plt.title('Prediction and Visualization')\n",
        "plt.show()"
      ],
      "execution_count": 62,
      "outputs": [
        {
          "output_type": "display_data",
          "data": {
            "image/png": "[encoded data removed]",
            "text/plain": [
              "<Figure size 432x288 with 1 Axes>"
            ]
          },
          "metadata": {
            "tags": [],
            "needs_background": "light"
          }
        }
      ]
    },
    {
      "cell_type": "code",
      "metadata": {
        "id": "cvEaRfmR2DRt"
      },
      "source": [
        ""
      ],
      "execution_count": null,
      "outputs": []
    }
  ]
}